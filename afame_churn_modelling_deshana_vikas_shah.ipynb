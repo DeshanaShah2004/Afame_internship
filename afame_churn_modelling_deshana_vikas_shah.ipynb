{
  "nbformat": 4,
  "nbformat_minor": 0,
  "metadata": {
    "colab": {
      "provenance": [],
      "gpuType": "T4",
      "authorship_tag": "ABX9TyPwvEqV/o3xLCUXSQ1TcAP7",
      "include_colab_link": true
    },
    "kernelspec": {
      "name": "python3",
      "display_name": "Python 3"
    },
    "language_info": {
      "name": "python"
    },
    "accelerator": "GPU"
  },
  "cells": [
    {
      "cell_type": "markdown",
      "metadata": {
        "id": "view-in-github",
        "colab_type": "text"
      },
      "source": [
        "<a href=\"https://colab.research.google.com/github/DeshanaShah2004/Afame_internship/blob/main/afame_churn_modelling_deshana_vikas_shah.ipynb\" target=\"_parent\"><img src=\"https://colab.research.google.com/assets/colab-badge.svg\" alt=\"Open In Colab\"/></a>"
      ]
    },
    {
      "cell_type": "code",
      "source": [
        "# Import necessary libraries\n",
        "import pandas as pd\n",
        "from sklearn.model_selection import train_test_split, StratifiedKFold\n",
        "from sklearn.ensemble import GradientBoostingClassifier, RandomForestClassifier\n",
        "from sklearn.linear_model import LogisticRegression\n",
        "from sklearn.metrics import classification_report, confusion_matrix, accuracy_score\n",
        "from sklearn.base import clone\n",
        "import numpy as np\n",
        "\n",
        "# Load the dataset\n",
        "df = pd.read_csv('/content/Churn_Modelling (1).csv')  # Update the path to your CSV file\n",
        "\n",
        "# Preprocess the data\n",
        "# Convert categorical columns to numerical values using one-hot encoding\n",
        "df = pd.get_dummies(df, columns=['Geography', 'Gender'], drop_first=True)\n",
        "\n",
        "# Define features and target variable\n",
        "X = df.drop(['RowNumber', 'CustomerId', 'Surname', 'Exited'], axis=1)\n",
        "y = df['Exited']\n",
        "\n",
        "# Split the data into training (80%) and testing+validation sets (20%)\n",
        "X_train, X_temp, y_train, y_temp = train_test_split(X, y, test_size=0.2, random_state=21)\n",
        "\n",
        "# Further split the testing+validation set into testing (50% of 20%) and validation sets (50% of 20%)\n",
        "X_test, X_val, y_test, y_val = train_test_split(X_temp, y_temp, test_size=0.5, random_state=21)\n",
        "\n",
        "# Initialize the base learners with adjusted parameters\n",
        "gb = GradientBoostingClassifier(n_estimators=500, learning_rate=0.0001, max_depth=3, min_samples_split=2, min_samples_leaf=1, random_state=21)\n",
        "rf = RandomForestClassifier(n_estimators=500, max_depth=None, min_samples_split=2, min_samples_leaf=1, random_state=21)\n",
        "\n",
        "# Initialize the meta-learner\n",
        "meta_learner = LogisticRegression(C=0.01, random_state=42)\n",
        "\n",
        "# Create arrays to hold out-of-fold predictions\n",
        "train_preds = np.zeros((X_train.shape[0], 2))\n",
        "val_preds = np.zeros((X_val.shape[0], 2))\n",
        "test_preds = np.zeros((X_test.shape[0], 2))\n",
        "\n",
        "# Cross-validation to create out-of-fold predictions for training the meta-learner\n",
        "skf = StratifiedKFold(n_splits=5, shuffle=True, random_state=42)\n",
        "for train_index, val_index in skf.split(X_train, y_train):\n",
        "    X_fold_train, X_fold_val = X_train.iloc[train_index], X_train.iloc[val_index]\n",
        "    y_fold_train, y_fold_val = y_train.iloc[train_index], y_train.iloc[val_index]\n",
        "\n",
        "    # Clone the models for each fold\n",
        "    gb_clone = clone(gb)\n",
        "    rf_clone = clone(rf)\n",
        "\n",
        "    # Train the models\n",
        "    gb_clone.fit(X_fold_train, y_fold_train)\n",
        "    rf_clone.fit(X_fold_train, y_fold_train)\n",
        "\n",
        "    # Predict the validation set\n",
        "    train_preds[val_index, 0] = gb_clone.predict(X_fold_val)\n",
        "    train_preds[val_index, 1] = rf_clone.predict(X_fold_val)\n",
        "\n",
        "    # Predict the validation and test sets (out-of-fold)\n",
        "    val_preds[:, 0] += gb_clone.predict(X_val) / skf.n_splits\n",
        "    val_preds[:, 1] += rf_clone.predict(X_val) / skf.n_splits\n",
        "    test_preds[:, 0] += gb_clone.predict(X_test) / skf.n_splits\n",
        "    test_preds[:, 1] += rf_clone.predict(X_test) / skf.n_splits\n",
        "\n",
        "# Train the meta-learner\n",
        "meta_learner.fit(train_preds, y_train)\n",
        "\n",
        "# Predict on the validation set using the meta-learner\n",
        "final_val_preds = meta_learner.predict(val_preds)\n",
        "print(\"Validation Confusion Matrix:\")\n",
        "print(confusion_matrix(y_val, final_val_preds))\n",
        "print(\"\\nValidation Classification Report:\")\n",
        "print(classification_report(y_val, final_val_preds))\n",
        "print(\"\\nValidation Accuracy Score:\")\n",
        "print(accuracy_score(y_val, final_val_preds))\n",
        "\n",
        "# Predict on the test set using the meta-learner\n",
        "final_test_preds = meta_learner.predict(test_preds)\n",
        "print(\"Test Confusion Matrix:\")\n",
        "print(confusion_matrix(y_test, final_test_preds))\n",
        "print(\"\\nTest Classification Report:\")\n",
        "print(classification_report(y_test, final_test_preds))\n",
        "print(\"\\nTest Accuracy Score:\")\n",
        "print(accuracy_score(y_test, final_test_preds))\n"
      ],
      "metadata": {
        "colab": {
          "base_uri": "https://localhost:8080/"
        },
        "id": "Bp-OcZwuxHfg",
        "outputId": "a32827c4-22bc-4251-f555-27b27ec22361"
      },
      "execution_count": null,
      "outputs": [
        {
          "output_type": "stream",
          "name": "stdout",
          "text": [
            "Validation Confusion Matrix:\n",
            "[[793  13]\n",
            " [116  78]]\n",
            "\n",
            "Validation Classification Report:\n",
            "              precision    recall  f1-score   support\n",
            "\n",
            "           0       0.87      0.98      0.92       806\n",
            "           1       0.86      0.40      0.55       194\n",
            "\n",
            "    accuracy                           0.87      1000\n",
            "   macro avg       0.86      0.69      0.74      1000\n",
            "weighted avg       0.87      0.87      0.85      1000\n",
            "\n",
            "\n",
            "Validation Accuracy Score:\n",
            "0.871\n",
            "Test Confusion Matrix:\n",
            "[[779  15]\n",
            " [126  80]]\n",
            "\n",
            "Test Classification Report:\n",
            "              precision    recall  f1-score   support\n",
            "\n",
            "           0       0.86      0.98      0.92       794\n",
            "           1       0.84      0.39      0.53       206\n",
            "\n",
            "    accuracy                           0.86      1000\n",
            "   macro avg       0.85      0.68      0.72      1000\n",
            "weighted avg       0.86      0.86      0.84      1000\n",
            "\n",
            "\n",
            "Test Accuracy Score:\n",
            "0.859\n"
          ]
        }
      ]
    }
  ]
}